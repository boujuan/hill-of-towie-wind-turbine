{
 "cells": [
  {
   "cell_type": "code",
   "execution_count": null,
   "id": "e027c87c",
   "metadata": {
    "_cell_guid": "b1076dfc-b9ad-4769-8c92-a6c4dae69d19",
    "_uuid": "8f2839f25d086af736a60e9eeb907d3b93b6e0e5",
    "execution": {
     "iopub.execute_input": "2025-05-06T16:26:42.828840Z",
     "iopub.status.busy": "2025-05-06T16:26:42.828506Z",
     "iopub.status.idle": "2025-05-06T16:26:44.563291Z",
     "shell.execute_reply": "2025-05-06T16:26:44.562560Z"
    },
    "papermill": {
     "duration": 1.742239,
     "end_time": "2025-05-06T16:26:44.564974",
     "exception": false,
     "start_time": "2025-05-06T16:26:42.822735",
     "status": "completed"
    },
    "tags": []
   },
   "outputs": [],
   "source": [
    "from pathlib import Path\n",
    "import pandas as pd\n",
    "import warnings; warnings.simplefilter(\"ignore\", RuntimeWarning)\n",
    "    \n",
    "DATA_DIR = Path(\"~/Coding/hill-of-towie-wind-turbine/data/\")\n",
    "OUTPUT_DIR = Path(\"~/Coding/hill-of-towie-wind-turbine/data/output\")\n",
    "# You can write up to 20GB to the current directory (/kaggle/working/) that gets preserved as output when you create a version using \"Save & Run All\" \n",
    "# You can also write temporary files to /kaggle/temp/, but they won't be saved outside of the current session\n",
    "\n",
    "train_data_fpath = DATA_DIR / \"train\" / \"training_dataset.parquet\"\n",
    "submission_data_fpath = DATA_DIR / \"test\" / \"submission_dataset.parquet\""
   ]
  },
  {
   "cell_type": "code",
   "execution_count": 2,
   "id": "6658d538",
   "metadata": {
    "execution": {
     "iopub.execute_input": "2025-05-06T16:26:44.574140Z",
     "iopub.status.busy": "2025-05-06T16:26:44.573757Z",
     "iopub.status.idle": "2025-05-06T16:26:44.578439Z",
     "shell.execute_reply": "2025-05-06T16:26:44.577807Z"
    },
    "papermill": {
     "duration": 0.01064,
     "end_time": "2025-05-06T16:26:44.579865",
     "exception": false,
     "start_time": "2025-05-06T16:26:44.569225",
     "status": "completed"
    },
    "tags": []
   },
   "outputs": [],
   "source": [
    "TARGET_COL = \"target\"\n",
    "\n",
    "class Cols:\n",
    "    \"\"\"Class to hold the column names of the dataset. Which allows for tab-completion and minimizes typos.\"\"\"\n",
    "\n",
    "    TIMESTAMP = \"TimeStamp_StartFormat\"\n",
    "    TURBINE_ID = \"turbine_id\"\n",
    "    WINDSPEED_MEAN = \"wtc_AcWindSp_mean\"\n",
    "    ACTIVEPOWER_MEAN = \"wtc_ActPower_mean\"\n",
    "    OP_TIMEON = \"wtc_ScReToOp_timeon\"\n",
    "    SHUTDOWN_DURATION = \"ShutdownDuration\""
   ]
  },
  {
   "cell_type": "markdown",
   "id": "d39d7810",
   "metadata": {
    "papermill": {
     "duration": 0.003489,
     "end_time": "2025-05-06T16:26:44.587412",
     "exception": false,
     "start_time": "2025-05-06T16:26:44.583923",
     "status": "completed"
    },
    "tags": []
   },
   "source": [
    "# Loading the data\n",
    "The data can be loaded into memory using pandas's `read_parquet` method.\n",
    "\n",
    "As Kaggle requires a unique `id` first column to be used in the submission, the data already contains one, which we can set as the index.\n",
    "The value is just the number of 10-minute timestamps since the start of the submission dataset start (so it will be negative values in the training dataset)."
   ]
  },
  {
   "cell_type": "code",
   "execution_count": 3,
   "id": "16aa4f86",
   "metadata": {
    "execution": {
     "iopub.execute_input": "2025-05-06T16:26:44.596416Z",
     "iopub.status.busy": "2025-05-06T16:26:44.595863Z",
     "iopub.status.idle": "2025-05-06T16:26:46.550228Z",
     "shell.execute_reply": "2025-05-06T16:26:46.549379Z"
    },
    "papermill": {
     "duration": 1.960291,
     "end_time": "2025-05-06T16:26:46.551668",
     "exception": false,
     "start_time": "2025-05-06T16:26:44.591377",
     "status": "completed"
    },
    "tags": []
   },
   "outputs": [
    {
     "data": {
      "text/html": [
       "<div>\n",
       "<style scoped>\n",
       "    .dataframe tbody tr th:only-of-type {\n",
       "        vertical-align: middle;\n",
       "    }\n",
       "\n",
       "    .dataframe tbody tr th {\n",
       "        vertical-align: top;\n",
       "    }\n",
       "\n",
       "    .dataframe thead th {\n",
       "        text-align: right;\n",
       "    }\n",
       "</style>\n",
       "<table border=\"1\" class=\"dataframe\">\n",
       "  <thead>\n",
       "    <tr style=\"text-align: right;\">\n",
       "      <th></th>\n",
       "      <th>TimeStamp_StartFormat</th>\n",
       "      <th>wtc_AcWindSp_mean;1</th>\n",
       "      <th>wtc_AcWindSp_mean;2</th>\n",
       "      <th>wtc_AcWindSp_mean;3</th>\n",
       "      <th>wtc_AcWindSp_mean;4</th>\n",
       "      <th>wtc_AcWindSp_mean;5</th>\n",
       "      <th>wtc_AcWindSp_mean;7</th>\n",
       "      <th>wtc_AcWindSp_min;1</th>\n",
       "      <th>wtc_AcWindSp_min;2</th>\n",
       "      <th>wtc_AcWindSp_min;3</th>\n",
       "      <th>...</th>\n",
       "      <th>ERA5_surface_pressure</th>\n",
       "      <th>ERA5_cloud_cover</th>\n",
       "      <th>ERA5_wind_speed_10m</th>\n",
       "      <th>ERA5_wind_speed_100m</th>\n",
       "      <th>ERA5_wind_direction_10m</th>\n",
       "      <th>ERA5_wind_direction_100m</th>\n",
       "      <th>ERA5_wind_gusts_10m</th>\n",
       "      <th>id</th>\n",
       "      <th>is_valid</th>\n",
       "      <th>target</th>\n",
       "    </tr>\n",
       "  </thead>\n",
       "  <tbody>\n",
       "    <tr>\n",
       "      <th>0</th>\n",
       "      <td>2016-01-01 00:00:00+00:00</td>\n",
       "      <td>6.085917</td>\n",
       "      <td>5.830675</td>\n",
       "      <td>6.613091</td>\n",
       "      <td>6.998510</td>\n",
       "      <td>7.645727</td>\n",
       "      <td>7.040790</td>\n",
       "      <td>2.0</td>\n",
       "      <td>1.1</td>\n",
       "      <td>1.6</td>\n",
       "      <td>...</td>\n",
       "      <td>976.166321</td>\n",
       "      <td>0.0</td>\n",
       "      <td>6.080296</td>\n",
       "      <td>10.040418</td>\n",
       "      <td>233.695404</td>\n",
       "      <td>236.784729</td>\n",
       "      <td>13.0</td>\n",
       "      <td>-210384</td>\n",
       "      <td>True</td>\n",
       "      <td>352.522308</td>\n",
       "    </tr>\n",
       "    <tr>\n",
       "      <th>1</th>\n",
       "      <td>2016-01-01 00:10:00+00:00</td>\n",
       "      <td>5.824693</td>\n",
       "      <td>5.810768</td>\n",
       "      <td>5.895642</td>\n",
       "      <td>6.521900</td>\n",
       "      <td>6.413868</td>\n",
       "      <td>6.599652</td>\n",
       "      <td>2.1</td>\n",
       "      <td>2.2</td>\n",
       "      <td>1.9</td>\n",
       "      <td>...</td>\n",
       "      <td>982.179504</td>\n",
       "      <td>100.0</td>\n",
       "      <td>3.301515</td>\n",
       "      <td>6.958448</td>\n",
       "      <td>178.264328</td>\n",
       "      <td>187.431320</td>\n",
       "      <td>6.9</td>\n",
       "      <td>-210383</td>\n",
       "      <td>True</td>\n",
       "      <td>294.078888</td>\n",
       "    </tr>\n",
       "    <tr>\n",
       "      <th>2</th>\n",
       "      <td>2016-01-01 00:20:00+00:00</td>\n",
       "      <td>7.100180</td>\n",
       "      <td>6.386981</td>\n",
       "      <td>7.606015</td>\n",
       "      <td>7.695034</td>\n",
       "      <td>7.812548</td>\n",
       "      <td>7.469052</td>\n",
       "      <td>2.2</td>\n",
       "      <td>2.1</td>\n",
       "      <td>0.0</td>\n",
       "      <td>...</td>\n",
       "      <td>985.240540</td>\n",
       "      <td>78.0</td>\n",
       "      <td>3.478505</td>\n",
       "      <td>4.648656</td>\n",
       "      <td>198.435043</td>\n",
       "      <td>198.824799</td>\n",
       "      <td>7.7</td>\n",
       "      <td>-210382</td>\n",
       "      <td>True</td>\n",
       "      <td>587.302795</td>\n",
       "    </tr>\n",
       "  </tbody>\n",
       "</table>\n",
       "<p>3 rows × 189 columns</p>\n",
       "</div>"
      ],
      "text/plain": [
       "      TimeStamp_StartFormat  wtc_AcWindSp_mean;1  wtc_AcWindSp_mean;2  \\\n",
       "0 2016-01-01 00:00:00+00:00             6.085917             5.830675   \n",
       "1 2016-01-01 00:10:00+00:00             5.824693             5.810768   \n",
       "2 2016-01-01 00:20:00+00:00             7.100180             6.386981   \n",
       "\n",
       "   wtc_AcWindSp_mean;3  wtc_AcWindSp_mean;4  wtc_AcWindSp_mean;5  \\\n",
       "0             6.613091             6.998510             7.645727   \n",
       "1             5.895642             6.521900             6.413868   \n",
       "2             7.606015             7.695034             7.812548   \n",
       "\n",
       "   wtc_AcWindSp_mean;7  wtc_AcWindSp_min;1  wtc_AcWindSp_min;2  \\\n",
       "0             7.040790                 2.0                 1.1   \n",
       "1             6.599652                 2.1                 2.2   \n",
       "2             7.469052                 2.2                 2.1   \n",
       "\n",
       "   wtc_AcWindSp_min;3  ...  ERA5_surface_pressure  ERA5_cloud_cover  \\\n",
       "0                 1.6  ...             976.166321               0.0   \n",
       "1                 1.9  ...             982.179504             100.0   \n",
       "2                 0.0  ...             985.240540              78.0   \n",
       "\n",
       "   ERA5_wind_speed_10m  ERA5_wind_speed_100m  ERA5_wind_direction_10m  \\\n",
       "0             6.080296             10.040418               233.695404   \n",
       "1             3.301515              6.958448               178.264328   \n",
       "2             3.478505              4.648656               198.435043   \n",
       "\n",
       "   ERA5_wind_direction_100m  ERA5_wind_gusts_10m      id  is_valid      target  \n",
       "0                236.784729                 13.0 -210384      True  352.522308  \n",
       "1                187.431320                  6.9 -210383      True  294.078888  \n",
       "2                198.824799                  7.7 -210382      True  587.302795  \n",
       "\n",
       "[3 rows x 189 columns]"
      ]
     },
     "execution_count": 3,
     "metadata": {},
     "output_type": "execute_result"
    }
   ],
   "source": [
    "input_df = pd.read_parquet(train_data_fpath)\n",
    "input_df.head(3)"
   ]
  },
  {
   "cell_type": "markdown",
   "id": "8499ff0a",
   "metadata": {
    "papermill": {
     "duration": 0.003811,
     "end_time": "2025-05-06T16:26:46.559675",
     "exception": false,
     "start_time": "2025-05-06T16:26:46.555864",
     "status": "completed"
    },
    "tags": []
   },
   "source": [
    "# Data Preparation\n",
    "\n",
    "Splitting the training data into a training subset (70%) and a test subset (30%)\n",
    "so we can check our model performance on unseen data (the test set).\n",
    "\n",
    "As the target turbine is Turbine 1, the feature columns will be all the data from turbines other than the target one.\n",
    "\n",
    "The target column has already been created and it is called `target`."
   ]
  },
  {
   "cell_type": "code",
   "execution_count": 4,
   "id": "eb37146d",
   "metadata": {
    "execution": {
     "iopub.execute_input": "2025-05-06T16:26:46.569013Z",
     "iopub.status.busy": "2025-05-06T16:26:46.568367Z",
     "iopub.status.idle": "2025-05-06T16:26:46.863091Z",
     "shell.execute_reply": "2025-05-06T16:26:46.862383Z"
    },
    "papermill": {
     "duration": 0.30097,
     "end_time": "2025-05-06T16:26:46.864613",
     "exception": false,
     "start_time": "2025-05-06T16:26:46.563643",
     "status": "completed"
    },
    "tags": []
   },
   "outputs": [],
   "source": [
    "test_fraction = 0.3\n",
    "ts_min, ts_max = input_df[Cols.TIMESTAMP].min(), input_df[Cols.TIMESTAMP].max()\n",
    "test_subset_start = ts_min + (ts_max - ts_min) * (1 - test_fraction)\n",
    "is_train_subset = input_df[Cols.TIMESTAMP] < test_subset_start\n",
    "\n",
    "feature_cols = [i for i in input_df.columns if not i.endswith(\";1\") and i != TARGET_COL]\n",
    "\n",
    "\n",
    "def _split_into_X_y(d: pd.DataFrame) -> tuple[pd.DataFrame, pd.Series]:\n",
    "    return d[feature_cols], d[TARGET_COL].mask(~d[\"is_valid\"])\n",
    "\n",
    "\n",
    "X_train, y_train = input_df[is_train_subset].pipe(_split_into_X_y)\n",
    "X_test, y_test = input_df[~is_train_subset].pipe(_split_into_X_y)"
   ]
  },
  {
   "cell_type": "code",
   "execution_count": 5,
   "id": "5a7ba5dc",
   "metadata": {
    "execution": {
     "iopub.execute_input": "2025-05-06T16:26:46.874415Z",
     "iopub.status.busy": "2025-05-06T16:26:46.873722Z",
     "iopub.status.idle": "2025-05-06T16:26:46.899208Z",
     "shell.execute_reply": "2025-05-06T16:26:46.898324Z"
    },
    "papermill": {
     "duration": 0.031589,
     "end_time": "2025-05-06T16:26:46.900451",
     "exception": false,
     "start_time": "2025-05-06T16:26:46.868862",
     "status": "completed"
    },
    "tags": []
   },
   "outputs": [
    {
     "data": {
      "text/html": [
       "<div>\n",
       "<style scoped>\n",
       "    .dataframe tbody tr th:only-of-type {\n",
       "        vertical-align: middle;\n",
       "    }\n",
       "\n",
       "    .dataframe tbody tr th {\n",
       "        vertical-align: top;\n",
       "    }\n",
       "\n",
       "    .dataframe thead th {\n",
       "        text-align: right;\n",
       "    }\n",
       "</style>\n",
       "<table border=\"1\" class=\"dataframe\">\n",
       "  <thead>\n",
       "    <tr style=\"text-align: right;\">\n",
       "      <th></th>\n",
       "      <th>TimeStamp_StartFormat</th>\n",
       "      <th>wtc_AcWindSp_mean;2</th>\n",
       "      <th>wtc_AcWindSp_mean;3</th>\n",
       "      <th>wtc_AcWindSp_mean;4</th>\n",
       "      <th>wtc_AcWindSp_mean;5</th>\n",
       "      <th>wtc_AcWindSp_mean;7</th>\n",
       "      <th>wtc_AcWindSp_min;2</th>\n",
       "      <th>wtc_AcWindSp_min;3</th>\n",
       "      <th>wtc_AcWindSp_min;4</th>\n",
       "      <th>wtc_AcWindSp_min;5</th>\n",
       "      <th>...</th>\n",
       "      <th>ERA5_precipitation</th>\n",
       "      <th>ERA5_surface_pressure</th>\n",
       "      <th>ERA5_cloud_cover</th>\n",
       "      <th>ERA5_wind_speed_10m</th>\n",
       "      <th>ERA5_wind_speed_100m</th>\n",
       "      <th>ERA5_wind_direction_10m</th>\n",
       "      <th>ERA5_wind_direction_100m</th>\n",
       "      <th>ERA5_wind_gusts_10m</th>\n",
       "      <th>id</th>\n",
       "      <th>is_valid</th>\n",
       "    </tr>\n",
       "  </thead>\n",
       "  <tbody>\n",
       "    <tr>\n",
       "      <th>0</th>\n",
       "      <td>2016-01-01 00:00:00+00:00</td>\n",
       "      <td>5.830675</td>\n",
       "      <td>6.613091</td>\n",
       "      <td>6.998510</td>\n",
       "      <td>7.645727</td>\n",
       "      <td>7.040790</td>\n",
       "      <td>1.1</td>\n",
       "      <td>1.6</td>\n",
       "      <td>2.4</td>\n",
       "      <td>4.3</td>\n",
       "      <td>...</td>\n",
       "      <td>0.0</td>\n",
       "      <td>976.166321</td>\n",
       "      <td>0.0</td>\n",
       "      <td>6.080296</td>\n",
       "      <td>10.040418</td>\n",
       "      <td>233.695404</td>\n",
       "      <td>236.784729</td>\n",
       "      <td>13.0</td>\n",
       "      <td>-210384</td>\n",
       "      <td>True</td>\n",
       "    </tr>\n",
       "    <tr>\n",
       "      <th>1</th>\n",
       "      <td>2016-01-01 00:10:00+00:00</td>\n",
       "      <td>5.810768</td>\n",
       "      <td>5.895642</td>\n",
       "      <td>6.521900</td>\n",
       "      <td>6.413868</td>\n",
       "      <td>6.599652</td>\n",
       "      <td>2.2</td>\n",
       "      <td>1.9</td>\n",
       "      <td>2.2</td>\n",
       "      <td>2.3</td>\n",
       "      <td>...</td>\n",
       "      <td>0.0</td>\n",
       "      <td>982.179504</td>\n",
       "      <td>100.0</td>\n",
       "      <td>3.301515</td>\n",
       "      <td>6.958448</td>\n",
       "      <td>178.264328</td>\n",
       "      <td>187.431320</td>\n",
       "      <td>6.9</td>\n",
       "      <td>-210383</td>\n",
       "      <td>True</td>\n",
       "    </tr>\n",
       "    <tr>\n",
       "      <th>2</th>\n",
       "      <td>2016-01-01 00:20:00+00:00</td>\n",
       "      <td>6.386981</td>\n",
       "      <td>7.606015</td>\n",
       "      <td>7.695034</td>\n",
       "      <td>7.812548</td>\n",
       "      <td>7.469052</td>\n",
       "      <td>2.1</td>\n",
       "      <td>0.0</td>\n",
       "      <td>4.2</td>\n",
       "      <td>4.0</td>\n",
       "      <td>...</td>\n",
       "      <td>0.0</td>\n",
       "      <td>985.240540</td>\n",
       "      <td>78.0</td>\n",
       "      <td>3.478505</td>\n",
       "      <td>4.648656</td>\n",
       "      <td>198.435043</td>\n",
       "      <td>198.824799</td>\n",
       "      <td>7.7</td>\n",
       "      <td>-210382</td>\n",
       "      <td>True</td>\n",
       "    </tr>\n",
       "  </tbody>\n",
       "</table>\n",
       "<p>3 rows × 159 columns</p>\n",
       "</div>"
      ],
      "text/plain": [
       "      TimeStamp_StartFormat  wtc_AcWindSp_mean;2  wtc_AcWindSp_mean;3  \\\n",
       "0 2016-01-01 00:00:00+00:00             5.830675             6.613091   \n",
       "1 2016-01-01 00:10:00+00:00             5.810768             5.895642   \n",
       "2 2016-01-01 00:20:00+00:00             6.386981             7.606015   \n",
       "\n",
       "   wtc_AcWindSp_mean;4  wtc_AcWindSp_mean;5  wtc_AcWindSp_mean;7  \\\n",
       "0             6.998510             7.645727             7.040790   \n",
       "1             6.521900             6.413868             6.599652   \n",
       "2             7.695034             7.812548             7.469052   \n",
       "\n",
       "   wtc_AcWindSp_min;2  wtc_AcWindSp_min;3  wtc_AcWindSp_min;4  \\\n",
       "0                 1.1                 1.6                 2.4   \n",
       "1                 2.2                 1.9                 2.2   \n",
       "2                 2.1                 0.0                 4.2   \n",
       "\n",
       "   wtc_AcWindSp_min;5  ...  ERA5_precipitation  ERA5_surface_pressure  \\\n",
       "0                 4.3  ...                 0.0             976.166321   \n",
       "1                 2.3  ...                 0.0             982.179504   \n",
       "2                 4.0  ...                 0.0             985.240540   \n",
       "\n",
       "   ERA5_cloud_cover  ERA5_wind_speed_10m  ERA5_wind_speed_100m  \\\n",
       "0               0.0             6.080296             10.040418   \n",
       "1             100.0             3.301515              6.958448   \n",
       "2              78.0             3.478505              4.648656   \n",
       "\n",
       "   ERA5_wind_direction_10m  ERA5_wind_direction_100m  ERA5_wind_gusts_10m  \\\n",
       "0               233.695404                236.784729                 13.0   \n",
       "1               178.264328                187.431320                  6.9   \n",
       "2               198.435043                198.824799                  7.7   \n",
       "\n",
       "       id  is_valid  \n",
       "0 -210384      True  \n",
       "1 -210383      True  \n",
       "2 -210382      True  \n",
       "\n",
       "[3 rows x 159 columns]"
      ]
     },
     "metadata": {},
     "output_type": "display_data"
    },
    {
     "data": {
      "text/plain": [
       "0    352.522308\n",
       "1    294.078888\n",
       "2    587.302795\n",
       "Name: target, dtype: float64"
      ]
     },
     "metadata": {},
     "output_type": "display_data"
    }
   ],
   "source": [
    "display(X_train.head(3))\n",
    "display(y_train.head(3))"
   ]
  },
  {
   "cell_type": "code",
   "execution_count": 6,
   "id": "71581482",
   "metadata": {
    "execution": {
     "iopub.execute_input": "2025-05-06T16:26:46.911363Z",
     "iopub.status.busy": "2025-05-06T16:26:46.911029Z",
     "iopub.status.idle": "2025-05-06T16:26:46.939471Z",
     "shell.execute_reply": "2025-05-06T16:26:46.938265Z"
    },
    "papermill": {
     "duration": 0.034976,
     "end_time": "2025-05-06T16:26:46.940969",
     "exception": false,
     "start_time": "2025-05-06T16:26:46.905993",
     "status": "completed"
    },
    "tags": []
   },
   "outputs": [
    {
     "data": {
      "text/html": [
       "<div>\n",
       "<style scoped>\n",
       "    .dataframe tbody tr th:only-of-type {\n",
       "        vertical-align: middle;\n",
       "    }\n",
       "\n",
       "    .dataframe tbody tr th {\n",
       "        vertical-align: top;\n",
       "    }\n",
       "\n",
       "    .dataframe thead th {\n",
       "        text-align: right;\n",
       "    }\n",
       "</style>\n",
       "<table border=\"1\" class=\"dataframe\">\n",
       "  <thead>\n",
       "    <tr style=\"text-align: right;\">\n",
       "      <th></th>\n",
       "      <th>TimeStamp_StartFormat</th>\n",
       "      <th>wtc_AcWindSp_mean;2</th>\n",
       "      <th>wtc_AcWindSp_mean;3</th>\n",
       "      <th>wtc_AcWindSp_mean;4</th>\n",
       "      <th>wtc_AcWindSp_mean;5</th>\n",
       "      <th>wtc_AcWindSp_mean;7</th>\n",
       "      <th>wtc_AcWindSp_min;2</th>\n",
       "      <th>wtc_AcWindSp_min;3</th>\n",
       "      <th>wtc_AcWindSp_min;4</th>\n",
       "      <th>wtc_AcWindSp_min;5</th>\n",
       "      <th>...</th>\n",
       "      <th>ERA5_precipitation</th>\n",
       "      <th>ERA5_surface_pressure</th>\n",
       "      <th>ERA5_cloud_cover</th>\n",
       "      <th>ERA5_wind_speed_10m</th>\n",
       "      <th>ERA5_wind_speed_100m</th>\n",
       "      <th>ERA5_wind_direction_10m</th>\n",
       "      <th>ERA5_wind_direction_100m</th>\n",
       "      <th>ERA5_wind_gusts_10m</th>\n",
       "      <th>id</th>\n",
       "      <th>is_valid</th>\n",
       "    </tr>\n",
       "  </thead>\n",
       "  <tbody>\n",
       "    <tr>\n",
       "      <th>147269</th>\n",
       "      <td>2018-10-19 16:50:00+00:00</td>\n",
       "      <td>7.048638</td>\n",
       "      <td>9.044636</td>\n",
       "      <td>6.810880</td>\n",
       "      <td>4.872089</td>\n",
       "      <td>9.327437</td>\n",
       "      <td>3.51</td>\n",
       "      <td>5.80</td>\n",
       "      <td>3.43</td>\n",
       "      <td>2.20</td>\n",
       "      <td>...</td>\n",
       "      <td>0.5</td>\n",
       "      <td>987.273315</td>\n",
       "      <td>77.0</td>\n",
       "      <td>4.792703</td>\n",
       "      <td>8.645230</td>\n",
       "      <td>203.355576</td>\n",
       "      <td>209.826996</td>\n",
       "      <td>10.6</td>\n",
       "      <td>-63115</td>\n",
       "      <td>True</td>\n",
       "    </tr>\n",
       "    <tr>\n",
       "      <th>147270</th>\n",
       "      <td>2018-10-19 17:00:00+00:00</td>\n",
       "      <td>6.400766</td>\n",
       "      <td>8.420758</td>\n",
       "      <td>6.259468</td>\n",
       "      <td>4.354299</td>\n",
       "      <td>8.992995</td>\n",
       "      <td>2.69</td>\n",
       "      <td>4.73</td>\n",
       "      <td>3.26</td>\n",
       "      <td>1.79</td>\n",
       "      <td>...</td>\n",
       "      <td>0.0</td>\n",
       "      <td>991.590149</td>\n",
       "      <td>38.0</td>\n",
       "      <td>3.701351</td>\n",
       "      <td>6.519202</td>\n",
       "      <td>271.548126</td>\n",
       "      <td>274.398621</td>\n",
       "      <td>8.6</td>\n",
       "      <td>-63114</td>\n",
       "      <td>True</td>\n",
       "    </tr>\n",
       "    <tr>\n",
       "      <th>147271</th>\n",
       "      <td>2018-10-19 17:10:00+00:00</td>\n",
       "      <td>5.183845</td>\n",
       "      <td>7.542589</td>\n",
       "      <td>4.765704</td>\n",
       "      <td>4.695193</td>\n",
       "      <td>8.731892</td>\n",
       "      <td>2.53</td>\n",
       "      <td>4.57</td>\n",
       "      <td>2.04</td>\n",
       "      <td>1.96</td>\n",
       "      <td>...</td>\n",
       "      <td>0.0</td>\n",
       "      <td>994.320801</td>\n",
       "      <td>100.0</td>\n",
       "      <td>2.000000</td>\n",
       "      <td>4.492216</td>\n",
       "      <td>180.000000</td>\n",
       "      <td>196.821487</td>\n",
       "      <td>4.0</td>\n",
       "      <td>-63113</td>\n",
       "      <td>True</td>\n",
       "    </tr>\n",
       "  </tbody>\n",
       "</table>\n",
       "<p>3 rows × 159 columns</p>\n",
       "</div>"
      ],
      "text/plain": [
       "           TimeStamp_StartFormat  wtc_AcWindSp_mean;2  wtc_AcWindSp_mean;3  \\\n",
       "147269 2018-10-19 16:50:00+00:00             7.048638             9.044636   \n",
       "147270 2018-10-19 17:00:00+00:00             6.400766             8.420758   \n",
       "147271 2018-10-19 17:10:00+00:00             5.183845             7.542589   \n",
       "\n",
       "        wtc_AcWindSp_mean;4  wtc_AcWindSp_mean;5  wtc_AcWindSp_mean;7  \\\n",
       "147269             6.810880             4.872089             9.327437   \n",
       "147270             6.259468             4.354299             8.992995   \n",
       "147271             4.765704             4.695193             8.731892   \n",
       "\n",
       "        wtc_AcWindSp_min;2  wtc_AcWindSp_min;3  wtc_AcWindSp_min;4  \\\n",
       "147269                3.51                5.80                3.43   \n",
       "147270                2.69                4.73                3.26   \n",
       "147271                2.53                4.57                2.04   \n",
       "\n",
       "        wtc_AcWindSp_min;5  ...  ERA5_precipitation  ERA5_surface_pressure  \\\n",
       "147269                2.20  ...                 0.5             987.273315   \n",
       "147270                1.79  ...                 0.0             991.590149   \n",
       "147271                1.96  ...                 0.0             994.320801   \n",
       "\n",
       "        ERA5_cloud_cover  ERA5_wind_speed_10m  ERA5_wind_speed_100m  \\\n",
       "147269              77.0             4.792703              8.645230   \n",
       "147270              38.0             3.701351              6.519202   \n",
       "147271             100.0             2.000000              4.492216   \n",
       "\n",
       "        ERA5_wind_direction_10m  ERA5_wind_direction_100m  \\\n",
       "147269               203.355576                209.826996   \n",
       "147270               271.548126                274.398621   \n",
       "147271               180.000000                196.821487   \n",
       "\n",
       "        ERA5_wind_gusts_10m     id  is_valid  \n",
       "147269                 10.6 -63115      True  \n",
       "147270                  8.6 -63114      True  \n",
       "147271                  4.0 -63113      True  \n",
       "\n",
       "[3 rows x 159 columns]"
      ]
     },
     "metadata": {},
     "output_type": "display_data"
    },
    {
     "data": {
      "text/plain": [
       "147269    701.983826\n",
       "147270    631.159119\n",
       "147271    425.913208\n",
       "Name: target, dtype: float64"
      ]
     },
     "metadata": {},
     "output_type": "display_data"
    }
   ],
   "source": [
    "display(X_test.head(3))\n",
    "display(y_test.head(3))"
   ]
  },
  {
   "cell_type": "markdown",
   "id": "85e2da15",
   "metadata": {
    "papermill": {
     "duration": 0.005783,
     "end_time": "2025-05-06T16:26:46.952061",
     "exception": false,
     "start_time": "2025-05-06T16:26:46.946278",
     "status": "completed"
    },
    "tags": []
   },
   "source": [
    "# Define the model\n",
    "We'll use a simple model that just takes the estimates the Active Power of the target\n",
    "turbine as the average of the Active Power of all other fully-operating turbines."
   ]
  },
  {
   "cell_type": "code",
   "execution_count": 7,
   "id": "75b71784",
   "metadata": {
    "execution": {
     "iopub.execute_input": "2025-05-06T16:26:46.965507Z",
     "iopub.status.busy": "2025-05-06T16:26:46.965059Z",
     "iopub.status.idle": "2025-05-06T16:26:46.972704Z",
     "shell.execute_reply": "2025-05-06T16:26:46.971912Z"
    },
    "papermill": {
     "duration": 0.016123,
     "end_time": "2025-05-06T16:26:46.974112",
     "exception": false,
     "start_time": "2025-05-06T16:26:46.957989",
     "status": "completed"
    },
    "tags": []
   },
   "outputs": [],
   "source": [
    "FULL_10MIN = 600  # full counter value for 10min interval\n",
    "other_turbines_ids = [2, 3, 4, 5, 7]\n",
    "other_turbines_power_cols = [f\"{Cols.ACTIVEPOWER_MEAN};{i}\" for i in other_turbines_ids]\n",
    "other_turbines_op_time_cols = [f\"{Cols.OP_TIMEON};{i}\" for i in other_turbines_ids]\n",
    "other_turbines_shutdown_duration_cols = [f\"{Cols.SHUTDOWN_DURATION};{i}\" for i in other_turbines_ids]\n",
    "\n",
    "\n",
    "# we could write it as a simple function...\n",
    "def mean_active_power_of_fully_operating_non_target_turbines(X: pd.DataFrame) -> pd.Series:\n",
    "    \"\"\"Calculate mean of Active Power for all other turbines (non-target) that are fully operating.\"\"\"\n",
    "    others_active_power = X[other_turbines_power_cols]\n",
    "    others_is_fully_operating = X[other_turbines_op_time_cols] == FULL_10MIN\n",
    "    others_not_shutdown = X[other_turbines_shutdown_duration_cols] == 0\n",
    "    is_ok = others_is_fully_operating.to_numpy() & others_not_shutdown.to_numpy()\n",
    "    return (\n",
    "        others_active_power\n",
    "        .mask(~is_ok)  # if \"not ok\", correponding data will be set to NaN\n",
    "        .mean(axis=1)  # mean across all non-target turbines\n",
    "        .clip(0)       # clipping with lower bound at 0\n",
    "    )\n",
    "\n",
    "\n",
    "# but better yet, we can make it a class in the style of the scikit-learn library\n",
    "class SimpleModel:\n",
    "    \"\"\"Simple model that takes Active Power from all other fully operating wind turbines and averages them.\"\"\"\n",
    "\n",
    "    def fit(self, X: pd.DataFrame, y: pd.Series) -> \"SimpleModel\":\n",
    "        # this simple model does not need training (coefficient fitting)\n",
    "        # but this is where you can put your logic to train your model\n",
    "        return self\n",
    "\n",
    "    def predict(self, X: pd.DataFrame) -> pd.Series:\n",
    "        return mean_active_power_of_fully_operating_non_target_turbines(X)"
   ]
  },
  {
   "cell_type": "markdown",
   "id": "75d1bbfa",
   "metadata": {
    "papermill": {
     "duration": 0.004253,
     "end_time": "2025-05-06T16:26:46.982998",
     "exception": false,
     "start_time": "2025-05-06T16:26:46.978745",
     "status": "completed"
    },
    "tags": []
   },
   "source": [
    "# Evaluate the model"
   ]
  },
  {
   "cell_type": "code",
   "execution_count": 8,
   "id": "7d1d39d5",
   "metadata": {
    "execution": {
     "iopub.execute_input": "2025-05-06T16:26:46.993175Z",
     "iopub.status.busy": "2025-05-06T16:26:46.992600Z",
     "iopub.status.idle": "2025-05-06T16:26:47.033157Z",
     "shell.execute_reply": "2025-05-06T16:26:47.032317Z"
    },
    "papermill": {
     "duration": 0.047395,
     "end_time": "2025-05-06T16:26:47.034749",
     "exception": false,
     "start_time": "2025-05-06T16:26:46.987354",
     "status": "completed"
    },
    "tags": []
   },
   "outputs": [],
   "source": [
    "simple_model = SimpleModel()\n",
    "simple_model.fit(X=X_train, y=y_train)\n",
    "y_pred = simple_model.predict(X_test)"
   ]
  },
  {
   "cell_type": "code",
   "execution_count": 9,
   "id": "2dbf9601",
   "metadata": {
    "execution": {
     "iopub.execute_input": "2025-05-06T16:26:47.045198Z",
     "iopub.status.busy": "2025-05-06T16:26:47.044932Z",
     "iopub.status.idle": "2025-05-06T16:26:47.054127Z",
     "shell.execute_reply": "2025-05-06T16:26:47.053309Z"
    },
    "papermill": {
     "duration": 0.0158,
     "end_time": "2025-05-06T16:26:47.055412",
     "exception": false,
     "start_time": "2025-05-06T16:26:47.039612",
     "status": "completed"
    },
    "tags": []
   },
   "outputs": [
    {
     "name": "stdout",
     "output_type": "stream",
     "text": [
      "The MAE for model is 77.59\n"
     ]
    }
   ],
   "source": [
    "mean_absolute_error = (y_pred - y_test).abs().mean()\n",
    "print(f\"The MAE for model is {mean_absolute_error:.2f}\")"
   ]
  },
  {
   "cell_type": "markdown",
   "id": "36be5ed6",
   "metadata": {
    "papermill": {
     "duration": 0.004363,
     "end_time": "2025-05-06T16:26:47.064487",
     "exception": false,
     "start_time": "2025-05-06T16:26:47.060124",
     "status": "completed"
    },
    "tags": []
   },
   "source": [
    "## visualising the performance"
   ]
  },
  {
   "cell_type": "code",
   "execution_count": 10,
   "id": "3e22a519",
   "metadata": {
    "execution": {
     "iopub.execute_input": "2025-05-06T16:26:47.078561Z",
     "iopub.status.busy": "2025-05-06T16:26:47.078165Z",
     "iopub.status.idle": "2025-05-06T16:26:47.549563Z",
     "shell.execute_reply": "2025-05-06T16:26:47.548715Z"
    },
    "papermill": {
     "duration": 0.484043,
     "end_time": "2025-05-06T16:26:47.553001",
     "exception": false,
     "start_time": "2025-05-06T16:26:47.068958",
     "status": "completed"
    },
    "tags": []
   },
   "outputs": [
    {
     "data": {
      "image/png": "[encoded data removed]",
      "text/plain": [
       "<Figure size 640x480 with 1 Axes>"
      ]
     },
     "metadata": {},
     "output_type": "display_data"
    }
   ],
   "source": [
    "ax = pd.DataFrame({\"predicted\": y_pred, \"actual\": y_test}).plot.scatter(\n",
    "    x=\"actual\", y=\"predicted\", s=1, alpha=0.2, grid=True\n",
    ")\n",
    "ax.plot([0, y_test.max()], [0, y_test.max()], \"--r\");  # adding red 1-to-1 line"
   ]
  },
  {
   "cell_type": "markdown",
   "id": "c7b0bdb6",
   "metadata": {
    "papermill": {
     "duration": 0.006692,
     "end_time": "2025-05-06T16:26:47.566999",
     "exception": false,
     "start_time": "2025-05-06T16:26:47.560307",
     "status": "completed"
    },
    "tags": []
   },
   "source": [
    "# Predicting on submission data"
   ]
  },
  {
   "cell_type": "code",
   "execution_count": 11,
   "id": "c800e5cd",
   "metadata": {
    "execution": {
     "iopub.execute_input": "2025-05-06T16:26:47.582581Z",
     "iopub.status.busy": "2025-05-06T16:26:47.581462Z",
     "iopub.status.idle": "2025-05-06T16:26:47.921936Z",
     "shell.execute_reply": "2025-05-06T16:26:47.921078Z"
    },
    "papermill": {
     "duration": 0.349486,
     "end_time": "2025-05-06T16:26:47.923309",
     "exception": false,
     "start_time": "2025-05-06T16:26:47.573823",
     "status": "completed"
    },
    "tags": []
   },
   "outputs": [
    {
     "data": {
      "text/html": [
       "<div>\n",
       "<style scoped>\n",
       "    .dataframe tbody tr th:only-of-type {\n",
       "        vertical-align: middle;\n",
       "    }\n",
       "\n",
       "    .dataframe tbody tr th {\n",
       "        vertical-align: top;\n",
       "    }\n",
       "\n",
       "    .dataframe thead th {\n",
       "        text-align: right;\n",
       "    }\n",
       "</style>\n",
       "<table border=\"1\" class=\"dataframe\">\n",
       "  <thead>\n",
       "    <tr style=\"text-align: right;\">\n",
       "      <th></th>\n",
       "      <th>TimeStamp_StartFormat</th>\n",
       "      <th>wtc_AcWindSp_mean;2</th>\n",
       "      <th>wtc_AcWindSp_mean;3</th>\n",
       "      <th>wtc_AcWindSp_mean;4</th>\n",
       "      <th>wtc_AcWindSp_mean;5</th>\n",
       "      <th>wtc_AcWindSp_mean;7</th>\n",
       "      <th>wtc_AcWindSp_min;2</th>\n",
       "      <th>wtc_AcWindSp_min;3</th>\n",
       "      <th>wtc_AcWindSp_min;4</th>\n",
       "      <th>wtc_AcWindSp_min;5</th>\n",
       "      <th>...</th>\n",
       "      <th>ERA5_dew_point_2m</th>\n",
       "      <th>ERA5_precipitation</th>\n",
       "      <th>ERA5_surface_pressure</th>\n",
       "      <th>ERA5_cloud_cover</th>\n",
       "      <th>ERA5_wind_speed_10m</th>\n",
       "      <th>ERA5_wind_speed_100m</th>\n",
       "      <th>ERA5_wind_direction_10m</th>\n",
       "      <th>ERA5_wind_direction_100m</th>\n",
       "      <th>ERA5_wind_gusts_10m</th>\n",
       "      <th>is_valid</th>\n",
       "    </tr>\n",
       "    <tr>\n",
       "      <th>id</th>\n",
       "      <th></th>\n",
       "      <th></th>\n",
       "      <th></th>\n",
       "      <th></th>\n",
       "      <th></th>\n",
       "      <th></th>\n",
       "      <th></th>\n",
       "      <th></th>\n",
       "      <th></th>\n",
       "      <th></th>\n",
       "      <th></th>\n",
       "      <th></th>\n",
       "      <th></th>\n",
       "      <th></th>\n",
       "      <th></th>\n",
       "      <th></th>\n",
       "      <th></th>\n",
       "      <th></th>\n",
       "      <th></th>\n",
       "      <th></th>\n",
       "      <th></th>\n",
       "    </tr>\n",
       "  </thead>\n",
       "  <tbody>\n",
       "    <tr>\n",
       "      <th>0</th>\n",
       "      <td>2020-01-01 00:00:00+00:00</td>\n",
       "      <td>11.16164</td>\n",
       "      <td>10.88820</td>\n",
       "      <td>11.86938</td>\n",
       "      <td>11.86918</td>\n",
       "      <td>11.67452</td>\n",
       "      <td>8.30</td>\n",
       "      <td>7.78</td>\n",
       "      <td>9.75</td>\n",
       "      <td>9.13</td>\n",
       "      <td>...</td>\n",
       "      <td>-2.408</td>\n",
       "      <td>0.0</td>\n",
       "      <td>994.515015</td>\n",
       "      <td>18.0</td>\n",
       "      <td>4.808326</td>\n",
       "      <td>9.484725</td>\n",
       "      <td>224.999893</td>\n",
       "      <td>227.563812</td>\n",
       "      <td>9.7</td>\n",
       "      <td>True</td>\n",
       "    </tr>\n",
       "    <tr>\n",
       "      <th>1</th>\n",
       "      <td>2020-01-01 00:10:00+00:00</td>\n",
       "      <td>11.30721</td>\n",
       "      <td>10.86559</td>\n",
       "      <td>12.97147</td>\n",
       "      <td>12.50372</td>\n",
       "      <td>11.38912</td>\n",
       "      <td>7.88</td>\n",
       "      <td>6.94</td>\n",
       "      <td>10.07</td>\n",
       "      <td>9.44</td>\n",
       "      <td>...</td>\n",
       "      <td>1.592</td>\n",
       "      <td>0.0</td>\n",
       "      <td>1000.559082</td>\n",
       "      <td>95.0</td>\n",
       "      <td>2.785677</td>\n",
       "      <td>5.247857</td>\n",
       "      <td>201.037582</td>\n",
       "      <td>210.963684</td>\n",
       "      <td>4.4</td>\n",
       "      <td>True</td>\n",
       "    </tr>\n",
       "    <tr>\n",
       "      <th>2</th>\n",
       "      <td>2020-01-01 00:20:00+00:00</td>\n",
       "      <td>11.27332</td>\n",
       "      <td>10.89379</td>\n",
       "      <td>12.21393</td>\n",
       "      <td>12.14904</td>\n",
       "      <td>11.12704</td>\n",
       "      <td>8.50</td>\n",
       "      <td>6.94</td>\n",
       "      <td>9.65</td>\n",
       "      <td>9.96</td>\n",
       "      <td>...</td>\n",
       "      <td>4.012</td>\n",
       "      <td>0.0</td>\n",
       "      <td>989.992554</td>\n",
       "      <td>68.0</td>\n",
       "      <td>5.803448</td>\n",
       "      <td>9.226592</td>\n",
       "      <td>271.974884</td>\n",
       "      <td>274.350983</td>\n",
       "      <td>11.1</td>\n",
       "      <td>True</td>\n",
       "    </tr>\n",
       "  </tbody>\n",
       "</table>\n",
       "<p>3 rows × 158 columns</p>\n",
       "</div>"
      ],
      "text/plain": [
       "       TimeStamp_StartFormat  wtc_AcWindSp_mean;2  wtc_AcWindSp_mean;3  \\\n",
       "id                                                                       \n",
       "0  2020-01-01 00:00:00+00:00             11.16164             10.88820   \n",
       "1  2020-01-01 00:10:00+00:00             11.30721             10.86559   \n",
       "2  2020-01-01 00:20:00+00:00             11.27332             10.89379   \n",
       "\n",
       "    wtc_AcWindSp_mean;4  wtc_AcWindSp_mean;5  wtc_AcWindSp_mean;7  \\\n",
       "id                                                                  \n",
       "0              11.86938             11.86918             11.67452   \n",
       "1              12.97147             12.50372             11.38912   \n",
       "2              12.21393             12.14904             11.12704   \n",
       "\n",
       "    wtc_AcWindSp_min;2  wtc_AcWindSp_min;3  wtc_AcWindSp_min;4  \\\n",
       "id                                                               \n",
       "0                 8.30                7.78                9.75   \n",
       "1                 7.88                6.94               10.07   \n",
       "2                 8.50                6.94                9.65   \n",
       "\n",
       "    wtc_AcWindSp_min;5  ...  ERA5_dew_point_2m  ERA5_precipitation  \\\n",
       "id                      ...                                          \n",
       "0                 9.13  ...             -2.408                 0.0   \n",
       "1                 9.44  ...              1.592                 0.0   \n",
       "2                 9.96  ...              4.012                 0.0   \n",
       "\n",
       "    ERA5_surface_pressure  ERA5_cloud_cover  ERA5_wind_speed_10m  \\\n",
       "id                                                                 \n",
       "0              994.515015              18.0             4.808326   \n",
       "1             1000.559082              95.0             2.785677   \n",
       "2              989.992554              68.0             5.803448   \n",
       "\n",
       "    ERA5_wind_speed_100m  ERA5_wind_direction_10m  ERA5_wind_direction_100m  \\\n",
       "id                                                                            \n",
       "0               9.484725               224.999893                227.563812   \n",
       "1               5.247857               201.037582                210.963684   \n",
       "2               9.226592               271.974884                274.350983   \n",
       "\n",
       "    ERA5_wind_gusts_10m  is_valid  \n",
       "id                                 \n",
       "0                   9.7      True  \n",
       "1                   4.4      True  \n",
       "2                  11.1      True  \n",
       "\n",
       "[3 rows x 158 columns]"
      ]
     },
     "execution_count": 11,
     "metadata": {},
     "output_type": "execute_result"
    }
   ],
   "source": [
    "X_submission = pd.read_parquet(submission_data_fpath).set_index(\"id\")\n",
    "X_submission.head(3)"
   ]
  },
  {
   "cell_type": "code",
   "execution_count": 12,
   "id": "a6c1e92b",
   "metadata": {
    "execution": {
     "iopub.execute_input": "2025-05-06T16:26:47.940034Z",
     "iopub.status.busy": "2025-05-06T16:26:47.939743Z",
     "iopub.status.idle": "2025-05-06T16:26:47.963808Z",
     "shell.execute_reply": "2025-05-06T16:26:47.962907Z"
    },
    "papermill": {
     "duration": 0.0338,
     "end_time": "2025-05-06T16:26:47.965359",
     "exception": false,
     "start_time": "2025-05-06T16:26:47.931559",
     "status": "completed"
    },
    "tags": []
   },
   "outputs": [],
   "source": [
    "submission_predictions = simple_model.predict(X_submission)"
   ]
  },
  {
   "cell_type": "markdown",
   "id": "ebc58fad",
   "metadata": {
    "papermill": {
     "duration": 0.006976,
     "end_time": "2025-05-06T16:26:47.979895",
     "exception": false,
     "start_time": "2025-05-06T16:26:47.972919",
     "status": "completed"
    },
    "tags": []
   },
   "source": [
    "# Exporting the prediciton for submission\n",
    "The expected output format of the submission is a csv table like the following:\n",
    "```csv\n",
    "id,prediction\n",
    "0,123.45\n",
    "1,6789.0\n",
    "...\n",
    "```\n",
    "\n",
    "**NOTE**:\n",
    "- the ***first column*** need to be a the unique identifier called ***id***.\n",
    "- there must be **no nulls/NaN values** in the data"
   ]
  },
  {
   "cell_type": "code",
   "execution_count": 13,
   "id": "78a2649c",
   "metadata": {
    "execution": {
     "iopub.execute_input": "2025-05-06T16:26:47.995409Z",
     "iopub.status.busy": "2025-05-06T16:26:47.995086Z",
     "iopub.status.idle": "2025-05-06T16:26:48.115778Z",
     "shell.execute_reply": "2025-05-06T16:26:48.114845Z"
    },
    "papermill": {
     "duration": 0.130217,
     "end_time": "2025-05-06T16:26:48.117184",
     "exception": false,
     "start_time": "2025-05-06T16:26:47.986967",
     "status": "completed"
    },
    "tags": []
   },
   "outputs": [
    {
     "name": "stdout",
     "output_type": "stream",
     "text": [
      "Submission file saved to ~/Coding/hill-of-towie-wind-turbine/output/sample_model_submission.csv\n"
     ]
    }
   ],
   "source": [
    "output_fpath = (OUTPUT_DIR / \"sample_model_submission.csv\").as_posix()\n",
    "\n",
    "(submission_predictions.fillna(0).to_frame(name=\"prediction\").to_csv(output_fpath))\n",
    "print(f\"Submission file saved to {output_fpath}\")"
   ]
  },
  {
   "cell_type": "code",
   "execution_count": 14,
   "id": "995a9af2",
   "metadata": {
    "execution": {
     "iopub.execute_input": "2025-05-06T16:26:48.133871Z",
     "iopub.status.busy": "2025-05-06T16:26:48.133097Z",
     "iopub.status.idle": "2025-05-06T16:26:48.282446Z",
     "shell.execute_reply": "2025-05-06T16:26:48.281582Z"
    },
    "papermill": {
     "duration": 0.159467,
     "end_time": "2025-05-06T16:26:48.284164",
     "exception": false,
     "start_time": "2025-05-06T16:26:48.124697",
     "status": "completed"
    },
    "tags": []
   },
   "outputs": [
    {
     "name": "stdout",
     "output_type": "stream",
     "text": [
      "id,prediction\n",
      "0,1790.092578125\n",
      "1,1883.399609375\n",
      "2,1777.3431884765625\n",
      "3,1671.6916015625\n"
     ]
    }
   ],
   "source": [
    "!head -n 5 {output_fpath}"
   ]
  },
  {
   "cell_type": "markdown",
   "id": "d0614703",
   "metadata": {
    "papermill": {
     "duration": 0.007347,
     "end_time": "2025-05-06T16:26:48.299122",
     "exception": false,
     "start_time": "2025-05-06T16:26:48.291775",
     "status": "completed"
    },
    "tags": []
   },
   "source": [
    "## Optional: checking the submission file\n",
    "This is an optional set of checks that should highlight common data issues before trying to submit the results to Kaggle."
   ]
  },
  {
   "cell_type": "code",
   "execution_count": 15,
   "id": "96af0f71",
   "metadata": {
    "execution": {
     "iopub.execute_input": "2025-05-06T16:26:48.315857Z",
     "iopub.status.busy": "2025-05-06T16:26:48.315149Z",
     "iopub.status.idle": "2025-05-06T16:26:48.364440Z",
     "shell.execute_reply": "2025-05-06T16:26:48.363579Z"
    },
    "papermill": {
     "duration": 0.059645,
     "end_time": "2025-05-06T16:26:48.366094",
     "exception": false,
     "start_time": "2025-05-06T16:26:48.306449",
     "status": "completed"
    },
    "tags": []
   },
   "outputs": [],
   "source": [
    "_df = pd.read_csv(output_fpath)\n",
    "\n",
    "# checking the columns are the expected ones\n",
    "assert _df.columns.to_list() == [\"id\", \"prediction\"], (\n",
    "    f'Expected columns [\"id\", \"prediction\"], found: {_df.columns.to_list()}'\n",
    ")\n",
    "\n",
    "# checking no nulls in the data\n",
    "assert _df.isna().sum().sum() == 0, \"There are NA values in the data!\"\n",
    "\n",
    "# checking the row ids are unique and within expected range\n",
    "duplicated_ids = _df[\"id\"].duplicated()\n",
    "assert not duplicated_ids.any(), f\"There are duplicated ids: {_df['id'][duplicated_ids].values}\"\n",
    "invalid_ids = set(_df[\"id\"].unique()) - set(range(52704))\n",
    "assert not invalid_ids, f\"The following row IDs are not within the expected ones: {invalid_ids}\""
   ]
  }
 ],
 "metadata": {
  "kaggle": {
   "accelerator": "none",
   "dataSources": [
    {
     "databundleVersionId": 12175349,
     "sourceId": 100485,
     "sourceType": "competition"
    }
   ],
   "dockerImageVersionId": 31012,
   "isGpuEnabled": false,
   "isInternetEnabled": true,
   "language": "python",
   "sourceType": "notebook"
  },
  "kernelspec": {
   "display_name": "hot-kaggle",
   "language": "python",
   "name": "python3"
  },
  "language_info": {
   "codemirror_mode": {
    "name": "ipython",
    "version": 3
   },
   "file_extension": ".py",
   "mimetype": "text/x-python",
   "name": "python",
   "nbconvert_exporter": "python",
   "pygments_lexer": "ipython3",
   "version": "3.11.13"
  },
  "papermill": {
   "default_parameters": {},
   "duration": 10.437729,
   "end_time": "2025-05-06T16:26:48.892340",
   "environment_variables": {},
   "exception": null,
   "input_path": "__notebook__.ipynb",
   "output_path": "__notebook__.ipynb",
   "parameters": {},
   "start_time": "2025-05-06T16:26:38.454611",
   "version": "2.6.0"
  }
 },
 "nbformat": 4,
 "nbformat_minor": 5
}
