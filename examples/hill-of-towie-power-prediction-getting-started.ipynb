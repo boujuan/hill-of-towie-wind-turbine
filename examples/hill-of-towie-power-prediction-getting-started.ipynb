{
 "cells": [
  {
   "cell_type": "code",
   "execution_count": 1,
   "id": "e027c87c",
   "metadata": {
    "_cell_guid": "b1076dfc-b9ad-4769-8c92-a6c4dae69d19",
    "_uuid": "8f2839f25d086af736a60e9eeb907d3b93b6e0e5",
    "execution": {
     "iopub.execute_input": "2025-05-06T16:26:42.828840Z",
     "iopub.status.busy": "2025-05-06T16:26:42.828506Z",
     "iopub.status.idle": "2025-05-06T16:26:44.563291Z",
     "shell.execute_reply": "2025-05-06T16:26:44.562560Z"
    },
    "papermill": {
     "duration": 1.742239,
     "end_time": "2025-05-06T16:26:44.564974",
     "exception": false,
     "start_time": "2025-05-06T16:26:42.822735",
     "status": "completed"
    },
    "tags": []
   },
   "outputs": [],
   "source": [
    "from pathlib import Path\n",
    "import pandas as pd\n",
    "import warnings; warnings.simplefilter(\"ignore\", RuntimeWarning)\n",
    "\n",
    "DATA_DIR = Path(\"/kaggle/input/hill-of-towie-wind-turbine-power-prediction\")\n",
    "OUTPUT_DIR = Path(\"/kaggle/working\")\n",
    "# You can write up to 20GB to the current directory (/kaggle/working/) that gets preserved as output when you create a version using \"Save & Run All\" \n",
    "# You can also write temporary files to /kaggle/temp/, but they won't be saved outside of the current session\n",
    "\n",
    "train_data_fpath = DATA_DIR / \"training_dataset.parquet\"\n",
    "submission_data_fpath = DATA_DIR / \"submission_dataset.parquet\""
   ]
  },
  {
   "cell_type": "code",
   "execution_count": 2,
   "id": "6658d538",
   "metadata": {
    "execution": {
     "iopub.execute_input": "2025-05-06T16:26:44.574140Z",
     "iopub.status.busy": "2025-05-06T16:26:44.573757Z",
     "iopub.status.idle": "2025-05-06T16:26:44.578439Z",
     "shell.execute_reply": "2025-05-06T16:26:44.577807Z"
    },
    "papermill": {
     "duration": 0.01064,
     "end_time": "2025-05-06T16:26:44.579865",
     "exception": false,
     "start_time": "2025-05-06T16:26:44.569225",
     "status": "completed"
    },
    "tags": []
   },
   "outputs": [],
   "source": [
    "TARGET_COL = \"target\"\n",
    "\n",
    "class Cols:\n",
    "    \"\"\"Class to hold the column names of the dataset. Which allows for tab-completion and minimizes typos.\"\"\"\n",
    "\n",
    "    TIMESTAMP = \"TimeStamp_StartFormat\"\n",
    "    TURBINE_ID = \"turbine_id\"\n",
    "    WINDSPEED_MEAN = \"wtc_AcWindSp_mean\"\n",
    "    ACTIVEPOWER_MEAN = \"wtc_ActPower_mean\"\n",
    "    OP_TIMEON = \"wtc_ScReToOp_timeon\"\n",
    "    SHUTDOWN_DURATION = \"ShutdownDuration\""
   ]
  },
  {
   "cell_type": "markdown",
   "id": "d39d7810",
   "metadata": {
    "papermill": {
     "duration": 0.003489,
     "end_time": "2025-05-06T16:26:44.587412",
     "exception": false,
     "start_time": "2025-05-06T16:26:44.583923",
     "status": "completed"
    },
    "tags": []
   },
   "source": [
    "# Loading the data\n",
    "The data can be loaded into memory using pandas's `read_parquet` method.\n",
    "\n",
    "As Kaggle requires a unique `id` first column to be used in the submission, the data already contains one, which we can set as the index.\n",
    "The value is just the number of 10-minute timestamps since the start of the submission dataset start (so it will be negative values in the training dataset)."
   ]
  },
  {
   "cell_type": "code",
   "execution_count": 3,
   "id": "16aa4f86",
   "metadata": {
    "execution": {
     "iopub.execute_input": "2025-05-06T16:26:44.596416Z",
     "iopub.status.busy": "2025-05-06T16:26:44.595863Z",
     "iopub.status.idle": "2025-05-06T16:26:46.550228Z",
     "shell.execute_reply": "2025-05-06T16:26:46.549379Z"
    },
    "papermill": {
     "duration": 1.960291,
     "end_time": "2025-05-06T16:26:46.551668",
     "exception": false,
     "start_time": "2025-05-06T16:26:44.591377",
     "status": "completed"
    },
    "tags": []
   },
   "outputs": [
    {
     "ename": "FileNotFoundError",
     "evalue": "[Errno 2] No such file or directory: '/kaggle/input/hill-of-towie-wind-turbine-power-prediction/training_dataset.parquet'",
     "output_type": "error",
     "traceback": [
      "\u001b[31m---------------------------------------------------------------------------\u001b[39m",
      "\u001b[31mFileNotFoundError\u001b[39m                         Traceback (most recent call last)",
      "\u001b[36mCell\u001b[39m\u001b[36m \u001b[39m\u001b[32mIn[3]\u001b[39m\u001b[32m, line 1\u001b[39m\n\u001b[32m----> \u001b[39m\u001b[32m1\u001b[39m input_df = \u001b[43mpd\u001b[49m\u001b[43m.\u001b[49m\u001b[43mread_parquet\u001b[49m\u001b[43m(\u001b[49m\u001b[43mtrain_data_fpath\u001b[49m\u001b[43m)\u001b[49m\n\u001b[32m      2\u001b[39m input_df.head(\u001b[32m3\u001b[39m)\n",
      "\u001b[36mFile \u001b[39m\u001b[32m~/miniforge3/envs/hot-kaggle/lib/python3.11/site-packages/pandas/io/parquet.py:669\u001b[39m, in \u001b[36mread_parquet\u001b[39m\u001b[34m(path, engine, columns, storage_options, use_nullable_dtypes, dtype_backend, filesystem, filters, **kwargs)\u001b[39m\n\u001b[32m    666\u001b[39m     use_nullable_dtypes = \u001b[38;5;28;01mFalse\u001b[39;00m\n\u001b[32m    667\u001b[39m check_dtype_backend(dtype_backend)\n\u001b[32m--> \u001b[39m\u001b[32m669\u001b[39m \u001b[38;5;28;01mreturn\u001b[39;00m \u001b[43mimpl\u001b[49m\u001b[43m.\u001b[49m\u001b[43mread\u001b[49m\u001b[43m(\u001b[49m\n\u001b[32m    670\u001b[39m \u001b[43m    \u001b[49m\u001b[43mpath\u001b[49m\u001b[43m,\u001b[49m\n\u001b[32m    671\u001b[39m \u001b[43m    \u001b[49m\u001b[43mcolumns\u001b[49m\u001b[43m=\u001b[49m\u001b[43mcolumns\u001b[49m\u001b[43m,\u001b[49m\n\u001b[32m    672\u001b[39m \u001b[43m    \u001b[49m\u001b[43mfilters\u001b[49m\u001b[43m=\u001b[49m\u001b[43mfilters\u001b[49m\u001b[43m,\u001b[49m\n\u001b[32m    673\u001b[39m \u001b[43m    \u001b[49m\u001b[43mstorage_options\u001b[49m\u001b[43m=\u001b[49m\u001b[43mstorage_options\u001b[49m\u001b[43m,\u001b[49m\n\u001b[32m    674\u001b[39m \u001b[43m    \u001b[49m\u001b[43muse_nullable_dtypes\u001b[49m\u001b[43m=\u001b[49m\u001b[43muse_nullable_dtypes\u001b[49m\u001b[43m,\u001b[49m\n\u001b[32m    675\u001b[39m \u001b[43m    \u001b[49m\u001b[43mdtype_backend\u001b[49m\u001b[43m=\u001b[49m\u001b[43mdtype_backend\u001b[49m\u001b[43m,\u001b[49m\n\u001b[32m    676\u001b[39m \u001b[43m    \u001b[49m\u001b[43mfilesystem\u001b[49m\u001b[43m=\u001b[49m\u001b[43mfilesystem\u001b[49m\u001b[43m,\u001b[49m\n\u001b[32m    677\u001b[39m \u001b[43m    \u001b[49m\u001b[43m*\u001b[49m\u001b[43m*\u001b[49m\u001b[43mkwargs\u001b[49m\u001b[43m,\u001b[49m\n\u001b[32m    678\u001b[39m \u001b[43m\u001b[49m\u001b[43m)\u001b[49m\n",
      "\u001b[36mFile \u001b[39m\u001b[32m~/miniforge3/envs/hot-kaggle/lib/python3.11/site-packages/pandas/io/parquet.py:258\u001b[39m, in \u001b[36mPyArrowImpl.read\u001b[39m\u001b[34m(self, path, columns, filters, use_nullable_dtypes, dtype_backend, storage_options, filesystem, **kwargs)\u001b[39m\n\u001b[32m    256\u001b[39m \u001b[38;5;28;01mif\u001b[39;00m manager == \u001b[33m\"\u001b[39m\u001b[33marray\u001b[39m\u001b[33m\"\u001b[39m:\n\u001b[32m    257\u001b[39m     to_pandas_kwargs[\u001b[33m\"\u001b[39m\u001b[33msplit_blocks\u001b[39m\u001b[33m\"\u001b[39m] = \u001b[38;5;28;01mTrue\u001b[39;00m\n\u001b[32m--> \u001b[39m\u001b[32m258\u001b[39m path_or_handle, handles, filesystem = \u001b[43m_get_path_or_handle\u001b[49m\u001b[43m(\u001b[49m\n\u001b[32m    259\u001b[39m \u001b[43m    \u001b[49m\u001b[43mpath\u001b[49m\u001b[43m,\u001b[49m\n\u001b[32m    260\u001b[39m \u001b[43m    \u001b[49m\u001b[43mfilesystem\u001b[49m\u001b[43m,\u001b[49m\n\u001b[32m    261\u001b[39m \u001b[43m    \u001b[49m\u001b[43mstorage_options\u001b[49m\u001b[43m=\u001b[49m\u001b[43mstorage_options\u001b[49m\u001b[43m,\u001b[49m\n\u001b[32m    262\u001b[39m \u001b[43m    \u001b[49m\u001b[43mmode\u001b[49m\u001b[43m=\u001b[49m\u001b[33;43m\"\u001b[39;49m\u001b[33;43mrb\u001b[39;49m\u001b[33;43m\"\u001b[39;49m\u001b[43m,\u001b[49m\n\u001b[32m    263\u001b[39m \u001b[43m\u001b[49m\u001b[43m)\u001b[49m\n\u001b[32m    264\u001b[39m \u001b[38;5;28;01mtry\u001b[39;00m:\n\u001b[32m    265\u001b[39m     pa_table = \u001b[38;5;28mself\u001b[39m.api.parquet.read_table(\n\u001b[32m    266\u001b[39m         path_or_handle,\n\u001b[32m    267\u001b[39m         columns=columns,\n\u001b[32m   (...)\u001b[39m\u001b[32m    270\u001b[39m         **kwargs,\n\u001b[32m    271\u001b[39m     )\n",
      "\u001b[36mFile \u001b[39m\u001b[32m~/miniforge3/envs/hot-kaggle/lib/python3.11/site-packages/pandas/io/parquet.py:141\u001b[39m, in \u001b[36m_get_path_or_handle\u001b[39m\u001b[34m(path, fs, storage_options, mode, is_dir)\u001b[39m\n\u001b[32m    131\u001b[39m handles = \u001b[38;5;28;01mNone\u001b[39;00m\n\u001b[32m    132\u001b[39m \u001b[38;5;28;01mif\u001b[39;00m (\n\u001b[32m    133\u001b[39m     \u001b[38;5;129;01mnot\u001b[39;00m fs\n\u001b[32m    134\u001b[39m     \u001b[38;5;129;01mand\u001b[39;00m \u001b[38;5;129;01mnot\u001b[39;00m is_dir\n\u001b[32m   (...)\u001b[39m\u001b[32m    139\u001b[39m     \u001b[38;5;66;03m# fsspec resources can also point to directories\u001b[39;00m\n\u001b[32m    140\u001b[39m     \u001b[38;5;66;03m# this branch is used for example when reading from non-fsspec URLs\u001b[39;00m\n\u001b[32m--> \u001b[39m\u001b[32m141\u001b[39m     handles = \u001b[43mget_handle\u001b[49m\u001b[43m(\u001b[49m\n\u001b[32m    142\u001b[39m \u001b[43m        \u001b[49m\u001b[43mpath_or_handle\u001b[49m\u001b[43m,\u001b[49m\u001b[43m \u001b[49m\u001b[43mmode\u001b[49m\u001b[43m,\u001b[49m\u001b[43m \u001b[49m\u001b[43mis_text\u001b[49m\u001b[43m=\u001b[49m\u001b[38;5;28;43;01mFalse\u001b[39;49;00m\u001b[43m,\u001b[49m\u001b[43m \u001b[49m\u001b[43mstorage_options\u001b[49m\u001b[43m=\u001b[49m\u001b[43mstorage_options\u001b[49m\n\u001b[32m    143\u001b[39m \u001b[43m    \u001b[49m\u001b[43m)\u001b[49m\n\u001b[32m    144\u001b[39m     fs = \u001b[38;5;28;01mNone\u001b[39;00m\n\u001b[32m    145\u001b[39m     path_or_handle = handles.handle\n",
      "\u001b[36mFile \u001b[39m\u001b[32m~/miniforge3/envs/hot-kaggle/lib/python3.11/site-packages/pandas/io/common.py:882\u001b[39m, in \u001b[36mget_handle\u001b[39m\u001b[34m(path_or_buf, mode, encoding, compression, memory_map, is_text, errors, storage_options)\u001b[39m\n\u001b[32m    873\u001b[39m         handle = \u001b[38;5;28mopen\u001b[39m(\n\u001b[32m    874\u001b[39m             handle,\n\u001b[32m    875\u001b[39m             ioargs.mode,\n\u001b[32m   (...)\u001b[39m\u001b[32m    878\u001b[39m             newline=\u001b[33m\"\u001b[39m\u001b[33m\"\u001b[39m,\n\u001b[32m    879\u001b[39m         )\n\u001b[32m    880\u001b[39m     \u001b[38;5;28;01melse\u001b[39;00m:\n\u001b[32m    881\u001b[39m         \u001b[38;5;66;03m# Binary mode\u001b[39;00m\n\u001b[32m--> \u001b[39m\u001b[32m882\u001b[39m         handle = \u001b[38;5;28;43mopen\u001b[39;49m\u001b[43m(\u001b[49m\u001b[43mhandle\u001b[49m\u001b[43m,\u001b[49m\u001b[43m \u001b[49m\u001b[43mioargs\u001b[49m\u001b[43m.\u001b[49m\u001b[43mmode\u001b[49m\u001b[43m)\u001b[49m\n\u001b[32m    883\u001b[39m     handles.append(handle)\n\u001b[32m    885\u001b[39m \u001b[38;5;66;03m# Convert BytesIO or file objects passed with an encoding\u001b[39;00m\n",
      "\u001b[31mFileNotFoundError\u001b[39m: [Errno 2] No such file or directory: '/kaggle/input/hill-of-towie-wind-turbine-power-prediction/training_dataset.parquet'"
     ]
    }
   ],
   "source": [
    "input_df = pd.read_parquet(train_data_fpath)\n",
    "input_df.head(3)"
   ]
  },
  {
   "cell_type": "markdown",
   "id": "8499ff0a",
   "metadata": {
    "papermill": {
     "duration": 0.003811,
     "end_time": "2025-05-06T16:26:46.559675",
     "exception": false,
     "start_time": "2025-05-06T16:26:46.555864",
     "status": "completed"
    },
    "tags": []
   },
   "source": [
    "# Data Preparation\n",
    "\n",
    "Splitting the training data into a training subset (70%) and a test subset (30%)\n",
    "so we can check our model performance on unseen data (the test set).\n",
    "\n",
    "As the target turbine is Turbine 1, the feature columns will be all the data from turbines other than the target one.\n",
    "\n",
    "The target column has already been created and it is called `target`."
   ]
  },
  {
   "cell_type": "code",
   "execution_count": null,
   "id": "eb37146d",
   "metadata": {
    "execution": {
     "iopub.execute_input": "2025-05-06T16:26:46.569013Z",
     "iopub.status.busy": "2025-05-06T16:26:46.568367Z",
     "iopub.status.idle": "2025-05-06T16:26:46.863091Z",
     "shell.execute_reply": "2025-05-06T16:26:46.862383Z"
    },
    "papermill": {
     "duration": 0.30097,
     "end_time": "2025-05-06T16:26:46.864613",
     "exception": false,
     "start_time": "2025-05-06T16:26:46.563643",
     "status": "completed"
    },
    "tags": []
   },
   "outputs": [],
   "source": [
    "test_fraction = 0.3\n",
    "ts_min, ts_max = input_df[Cols.TIMESTAMP].min(), input_df[Cols.TIMESTAMP].max()\n",
    "test_subset_start = ts_min + (ts_max - ts_min) * (1 - test_fraction)\n",
    "is_train_subset = input_df[Cols.TIMESTAMP] < test_subset_start\n",
    "\n",
    "feature_cols = [i for i in input_df.columns if not i.endswith(\";1\") and i != TARGET_COL]\n",
    "\n",
    "\n",
    "def _split_into_X_y(d: pd.DataFrame) -> tuple[pd.DataFrame, pd.Series]:\n",
    "    return d[feature_cols], d[TARGET_COL].mask(~d[\"is_valid\"])\n",
    "\n",
    "\n",
    "X_train, y_train = input_df[is_train_subset].pipe(_split_into_X_y)\n",
    "X_test, y_test = input_df[~is_train_subset].pipe(_split_into_X_y)"
   ]
  },
  {
   "cell_type": "code",
   "execution_count": null,
   "id": "5a7ba5dc",
   "metadata": {
    "execution": {
     "iopub.execute_input": "2025-05-06T16:26:46.874415Z",
     "iopub.status.busy": "2025-05-06T16:26:46.873722Z",
     "iopub.status.idle": "2025-05-06T16:26:46.899208Z",
     "shell.execute_reply": "2025-05-06T16:26:46.898324Z"
    },
    "papermill": {
     "duration": 0.031589,
     "end_time": "2025-05-06T16:26:46.900451",
     "exception": false,
     "start_time": "2025-05-06T16:26:46.868862",
     "status": "completed"
    },
    "tags": []
   },
   "outputs": [],
   "source": [
    "display(X_train.head(3))\n",
    "display(y_train.head(3))"
   ]
  },
  {
   "cell_type": "code",
   "execution_count": null,
   "id": "71581482",
   "metadata": {
    "execution": {
     "iopub.execute_input": "2025-05-06T16:26:46.911363Z",
     "iopub.status.busy": "2025-05-06T16:26:46.911029Z",
     "iopub.status.idle": "2025-05-06T16:26:46.939471Z",
     "shell.execute_reply": "2025-05-06T16:26:46.938265Z"
    },
    "papermill": {
     "duration": 0.034976,
     "end_time": "2025-05-06T16:26:46.940969",
     "exception": false,
     "start_time": "2025-05-06T16:26:46.905993",
     "status": "completed"
    },
    "tags": []
   },
   "outputs": [],
   "source": [
    "display(X_test.head(3))\n",
    "display(y_test.head(3))"
   ]
  },
  {
   "cell_type": "markdown",
   "id": "85e2da15",
   "metadata": {
    "papermill": {
     "duration": 0.005783,
     "end_time": "2025-05-06T16:26:46.952061",
     "exception": false,
     "start_time": "2025-05-06T16:26:46.946278",
     "status": "completed"
    },
    "tags": []
   },
   "source": [
    "# Define the model\n",
    "We'll use a simple model that just takes the estimates the Active Power of the target\n",
    "turbine as the average of the Active Power of all other fully-operating turbines."
   ]
  },
  {
   "cell_type": "code",
   "execution_count": null,
   "id": "75b71784",
   "metadata": {
    "execution": {
     "iopub.execute_input": "2025-05-06T16:26:46.965507Z",
     "iopub.status.busy": "2025-05-06T16:26:46.965059Z",
     "iopub.status.idle": "2025-05-06T16:26:46.972704Z",
     "shell.execute_reply": "2025-05-06T16:26:46.971912Z"
    },
    "papermill": {
     "duration": 0.016123,
     "end_time": "2025-05-06T16:26:46.974112",
     "exception": false,
     "start_time": "2025-05-06T16:26:46.957989",
     "status": "completed"
    },
    "tags": []
   },
   "outputs": [],
   "source": [
    "FULL_10MIN = 600  # full counter value for 10min interval\n",
    "other_turbines_ids = [2, 3, 4, 5, 7]\n",
    "other_turbines_power_cols = [f\"{Cols.ACTIVEPOWER_MEAN};{i}\" for i in other_turbines_ids]\n",
    "other_turbines_op_time_cols = [f\"{Cols.OP_TIMEON};{i}\" for i in other_turbines_ids]\n",
    "other_turbines_shutdown_duration_cols = [f\"{Cols.SHUTDOWN_DURATION};{i}\" for i in other_turbines_ids]\n",
    "\n",
    "\n",
    "# we could write it as a simple function...\n",
    "def mean_active_power_of_fully_operating_non_target_turbines(X: pd.DataFrame) -> pd.Series:\n",
    "    \"\"\"Calculate mean of Active Power for all other turbines (non-target) that are fully operating.\"\"\"\n",
    "    others_active_power = X[other_turbines_power_cols]\n",
    "    others_is_fully_operating = X[other_turbines_op_time_cols] == FULL_10MIN\n",
    "    others_not_shutdown = X[other_turbines_shutdown_duration_cols] == 0\n",
    "    is_ok = others_is_fully_operating.to_numpy() & others_not_shutdown.to_numpy()\n",
    "    return (\n",
    "        others_active_power\n",
    "        .mask(~is_ok)  # if \"not ok\", correponding data will be set to NaN\n",
    "        .mean(axis=1)  # mean across all non-target turbines\n",
    "        .clip(0)       # clipping with lower bound at 0\n",
    "    )\n",
    "\n",
    "\n",
    "# but better yet, we can make it a class in the style of the scikit-learn library\n",
    "class SimpleModel:\n",
    "    \"\"\"Simple model that takes Active Power from all other fully operating wind turbines and averages them.\"\"\"\n",
    "\n",
    "    def fit(self, X: pd.DataFrame, y: pd.Series) -> \"SimpleModel\":\n",
    "        # this simple model does not need training (coefficient fitting)\n",
    "        # but this is where you can put your logic to train your model\n",
    "        return self\n",
    "\n",
    "    def predict(self, X: pd.DataFrame) -> pd.Series:\n",
    "        return mean_active_power_of_fully_operating_non_target_turbines(X)"
   ]
  },
  {
   "cell_type": "markdown",
   "id": "75d1bbfa",
   "metadata": {
    "papermill": {
     "duration": 0.004253,
     "end_time": "2025-05-06T16:26:46.982998",
     "exception": false,
     "start_time": "2025-05-06T16:26:46.978745",
     "status": "completed"
    },
    "tags": []
   },
   "source": [
    "# Evaluate the model"
   ]
  },
  {
   "cell_type": "code",
   "execution_count": null,
   "id": "7d1d39d5",
   "metadata": {
    "execution": {
     "iopub.execute_input": "2025-05-06T16:26:46.993175Z",
     "iopub.status.busy": "2025-05-06T16:26:46.992600Z",
     "iopub.status.idle": "2025-05-06T16:26:47.033157Z",
     "shell.execute_reply": "2025-05-06T16:26:47.032317Z"
    },
    "papermill": {
     "duration": 0.047395,
     "end_time": "2025-05-06T16:26:47.034749",
     "exception": false,
     "start_time": "2025-05-06T16:26:46.987354",
     "status": "completed"
    },
    "tags": []
   },
   "outputs": [],
   "source": [
    "simple_model = SimpleModel()\n",
    "simple_model.fit(X=X_train, y=y_train)\n",
    "y_pred = simple_model.predict(X_test)"
   ]
  },
  {
   "cell_type": "code",
   "execution_count": null,
   "id": "2dbf9601",
   "metadata": {
    "execution": {
     "iopub.execute_input": "2025-05-06T16:26:47.045198Z",
     "iopub.status.busy": "2025-05-06T16:26:47.044932Z",
     "iopub.status.idle": "2025-05-06T16:26:47.054127Z",
     "shell.execute_reply": "2025-05-06T16:26:47.053309Z"
    },
    "papermill": {
     "duration": 0.0158,
     "end_time": "2025-05-06T16:26:47.055412",
     "exception": false,
     "start_time": "2025-05-06T16:26:47.039612",
     "status": "completed"
    },
    "tags": []
   },
   "outputs": [],
   "source": [
    "mean_absolute_error = (y_pred - y_test).abs().mean()\n",
    "print(f\"The MAE for model is {mean_absolute_error:.2f}\")"
   ]
  },
  {
   "cell_type": "markdown",
   "id": "36be5ed6",
   "metadata": {
    "papermill": {
     "duration": 0.004363,
     "end_time": "2025-05-06T16:26:47.064487",
     "exception": false,
     "start_time": "2025-05-06T16:26:47.060124",
     "status": "completed"
    },
    "tags": []
   },
   "source": [
    "## visualising the performance"
   ]
  },
  {
   "cell_type": "code",
   "execution_count": null,
   "id": "3e22a519",
   "metadata": {
    "execution": {
     "iopub.execute_input": "2025-05-06T16:26:47.078561Z",
     "iopub.status.busy": "2025-05-06T16:26:47.078165Z",
     "iopub.status.idle": "2025-05-06T16:26:47.549563Z",
     "shell.execute_reply": "2025-05-06T16:26:47.548715Z"
    },
    "papermill": {
     "duration": 0.484043,
     "end_time": "2025-05-06T16:26:47.553001",
     "exception": false,
     "start_time": "2025-05-06T16:26:47.068958",
     "status": "completed"
    },
    "tags": []
   },
   "outputs": [],
   "source": [
    "ax = pd.DataFrame({\"predicted\": y_pred, \"actual\": y_test}).plot.scatter(\n",
    "    x=\"actual\", y=\"predicted\", s=1, alpha=0.2, grid=True\n",
    ")\n",
    "ax.plot([0, y_test.max()], [0, y_test.max()], \"--r\");  # adding red 1-to-1 line"
   ]
  },
  {
   "cell_type": "markdown",
   "id": "c7b0bdb6",
   "metadata": {
    "papermill": {
     "duration": 0.006692,
     "end_time": "2025-05-06T16:26:47.566999",
     "exception": false,
     "start_time": "2025-05-06T16:26:47.560307",
     "status": "completed"
    },
    "tags": []
   },
   "source": [
    "# Predicting on submission data"
   ]
  },
  {
   "cell_type": "code",
   "execution_count": null,
   "id": "c800e5cd",
   "metadata": {
    "execution": {
     "iopub.execute_input": "2025-05-06T16:26:47.582581Z",
     "iopub.status.busy": "2025-05-06T16:26:47.581462Z",
     "iopub.status.idle": "2025-05-06T16:26:47.921936Z",
     "shell.execute_reply": "2025-05-06T16:26:47.921078Z"
    },
    "papermill": {
     "duration": 0.349486,
     "end_time": "2025-05-06T16:26:47.923309",
     "exception": false,
     "start_time": "2025-05-06T16:26:47.573823",
     "status": "completed"
    },
    "tags": []
   },
   "outputs": [],
   "source": [
    "X_submission = pd.read_parquet(submission_data_fpath).set_index(\"id\")\n",
    "X_submission.head(3)"
   ]
  },
  {
   "cell_type": "code",
   "execution_count": null,
   "id": "a6c1e92b",
   "metadata": {
    "execution": {
     "iopub.execute_input": "2025-05-06T16:26:47.940034Z",
     "iopub.status.busy": "2025-05-06T16:26:47.939743Z",
     "iopub.status.idle": "2025-05-06T16:26:47.963808Z",
     "shell.execute_reply": "2025-05-06T16:26:47.962907Z"
    },
    "papermill": {
     "duration": 0.0338,
     "end_time": "2025-05-06T16:26:47.965359",
     "exception": false,
     "start_time": "2025-05-06T16:26:47.931559",
     "status": "completed"
    },
    "tags": []
   },
   "outputs": [],
   "source": [
    "submission_predictions = simple_model.predict(X_submission)"
   ]
  },
  {
   "cell_type": "markdown",
   "id": "ebc58fad",
   "metadata": {
    "papermill": {
     "duration": 0.006976,
     "end_time": "2025-05-06T16:26:47.979895",
     "exception": false,
     "start_time": "2025-05-06T16:26:47.972919",
     "status": "completed"
    },
    "tags": []
   },
   "source": [
    "# Exporting the prediciton for submission\n",
    "The expected output format of the submission is a csv table like the following:\n",
    "```csv\n",
    "id,prediction\n",
    "0,123.45\n",
    "1,6789.0\n",
    "...\n",
    "```\n",
    "\n",
    "**NOTE**:\n",
    "- the ***first column*** need to be a the unique identifier called ***id***.\n",
    "- there must be **no nulls/NaN values** in the data"
   ]
  },
  {
   "cell_type": "code",
   "execution_count": null,
   "id": "78a2649c",
   "metadata": {
    "execution": {
     "iopub.execute_input": "2025-05-06T16:26:47.995409Z",
     "iopub.status.busy": "2025-05-06T16:26:47.995086Z",
     "iopub.status.idle": "2025-05-06T16:26:48.115778Z",
     "shell.execute_reply": "2025-05-06T16:26:48.114845Z"
    },
    "papermill": {
     "duration": 0.130217,
     "end_time": "2025-05-06T16:26:48.117184",
     "exception": false,
     "start_time": "2025-05-06T16:26:47.986967",
     "status": "completed"
    },
    "tags": []
   },
   "outputs": [],
   "source": [
    "output_fpath = (OUTPUT_DIR / \"sample_model_submission.csv\").as_posix()\n",
    "\n",
    "(submission_predictions.fillna(0).to_frame(name=\"prediction\").to_csv(output_fpath))\n",
    "print(f\"Submission file saved to {output_fpath}\")"
   ]
  },
  {
   "cell_type": "code",
   "execution_count": null,
   "id": "995a9af2",
   "metadata": {
    "execution": {
     "iopub.execute_input": "2025-05-06T16:26:48.133871Z",
     "iopub.status.busy": "2025-05-06T16:26:48.133097Z",
     "iopub.status.idle": "2025-05-06T16:26:48.282446Z",
     "shell.execute_reply": "2025-05-06T16:26:48.281582Z"
    },
    "papermill": {
     "duration": 0.159467,
     "end_time": "2025-05-06T16:26:48.284164",
     "exception": false,
     "start_time": "2025-05-06T16:26:48.124697",
     "status": "completed"
    },
    "tags": []
   },
   "outputs": [],
   "source": [
    "!head -n 5 {output_fpath}"
   ]
  },
  {
   "cell_type": "markdown",
   "id": "d0614703",
   "metadata": {
    "papermill": {
     "duration": 0.007347,
     "end_time": "2025-05-06T16:26:48.299122",
     "exception": false,
     "start_time": "2025-05-06T16:26:48.291775",
     "status": "completed"
    },
    "tags": []
   },
   "source": [
    "## Optional: checking the submission file\n",
    "This is an optional set of checks that should highlight common data issues before trying to submit the results to Kaggle."
   ]
  },
  {
   "cell_type": "code",
   "execution_count": null,
   "id": "96af0f71",
   "metadata": {
    "execution": {
     "iopub.execute_input": "2025-05-06T16:26:48.315857Z",
     "iopub.status.busy": "2025-05-06T16:26:48.315149Z",
     "iopub.status.idle": "2025-05-06T16:26:48.364440Z",
     "shell.execute_reply": "2025-05-06T16:26:48.363579Z"
    },
    "papermill": {
     "duration": 0.059645,
     "end_time": "2025-05-06T16:26:48.366094",
     "exception": false,
     "start_time": "2025-05-06T16:26:48.306449",
     "status": "completed"
    },
    "tags": []
   },
   "outputs": [],
   "source": [
    "_df = pd.read_csv(output_fpath)\n",
    "\n",
    "# checking the columns are the expected ones\n",
    "assert _df.columns.to_list() == [\"id\", \"prediction\"], (\n",
    "    f'Expected columns [\"id\", \"prediction\"], found: {_df.columns.to_list()}'\n",
    ")\n",
    "\n",
    "# checking no nulls in the data\n",
    "assert _df.isna().sum().sum() == 0, \"There are NA values in the data!\"\n",
    "\n",
    "# checking the row ids are unique and within expected range\n",
    "duplicated_ids = _df[\"id\"].duplicated()\n",
    "assert not duplicated_ids.any(), f\"There are duplicated ids: {_df['id'][duplicated_ids].values}\"\n",
    "invalid_ids = set(_df[\"id\"].unique()) - set(range(52704))\n",
    "assert not invalid_ids, f\"The following row IDs are not within the expected ones: {invalid_ids}\""
   ]
  }
 ],
 "metadata": {
  "kaggle": {
   "accelerator": "none",
   "dataSources": [
    {
     "databundleVersionId": 12175349,
     "sourceId": 100485,
     "sourceType": "competition"
    }
   ],
   "dockerImageVersionId": 31012,
   "isGpuEnabled": false,
   "isInternetEnabled": true,
   "language": "python",
   "sourceType": "notebook"
  },
  "kernelspec": {
   "display_name": "hot-kaggle",
   "language": "python",
   "name": "python3"
  },
  "language_info": {
   "codemirror_mode": {
    "name": "ipython",
    "version": 3
   },
   "file_extension": ".py",
   "mimetype": "text/x-python",
   "name": "python",
   "nbconvert_exporter": "python",
   "pygments_lexer": "ipython3",
   "version": "3.11.13"
  },
  "papermill": {
   "default_parameters": {},
   "duration": 10.437729,
   "end_time": "2025-05-06T16:26:48.892340",
   "environment_variables": {},
   "exception": null,
   "input_path": "__notebook__.ipynb",
   "output_path": "__notebook__.ipynb",
   "parameters": {},
   "start_time": "2025-05-06T16:26:38.454611",
   "version": "2.6.0"
  }
 },
 "nbformat": 4,
 "nbformat_minor": 5
}
